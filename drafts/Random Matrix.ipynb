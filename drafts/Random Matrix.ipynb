{
 "metadata": {
  "name": "Random Matrix"
 },
 "nbformat": 3,
 "nbformat_minor": 0,
 "worksheets": [
  {
   "cells": [
    {
     "cell_type": "code",
     "collapsed": false,
     "input": "import breeze.linalg._\nimport breeze.stats.distributions._",
     "language": "python",
     "metadata": {},
     "outputs": [
      {
       "output_type": "stream",
       "stream": "stderr",
       "text": ""
      },
      {
       "output_type": "stream",
       "stream": "stdout",
       "text": ""
      },
      {
       "ename": "",
       "evalue": "",
       "output_type": "pyerr",
       "traceback": [
        "<console>:7: error: not found: value breeze",
        "       import breeze.linalg._",
        "              ^",
        "<console>:8: error: not found: value breeze",
        "       import breeze.stats.distributions._",
        "              ^"
       ]
      }
     ],
     "prompt_number": 1
    },
    {
     "cell_type": "code",
     "collapsed": false,
     "input": "",
     "language": "python",
     "metadata": {},
     "outputs": []
    }
   ],
   "metadata": {}
  }
 ]
}