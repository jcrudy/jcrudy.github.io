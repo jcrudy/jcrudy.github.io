{
 "metadata": {
  "name": ""
 },
 "nbformat": 3,
 "nbformat_minor": 0,
 "worksheets": [
  {
   "cells": [
    {
     "cell_type": "code",
     "collapsed": false,
     "input": [
      "import breeze.linalg._\n",
      "import breeze.stats.distributions._"
     ],
     "language": "python",
     "metadata": {},
     "outputs": [
      {
       "output_type": "stream",
       "stream": "stderr",
       "text": []
      },
      {
       "output_type": "stream",
       "stream": "stdout",
       "text": []
      },
      {
       "ename": "",
       "evalue": "",
       "output_type": "pyerr",
       "traceback": [
        "<console>:7: error: not found: value breeze",
        "       import breeze.linalg._",
        "              ^",
        "<console>:8: error: not found: value breeze",
        "       import breeze.stats.distributions._",
        "              ^"
       ]
      }
     ],
     "prompt_number": 1
    },
    {
     "cell_type": "code",
     "collapsed": false,
     "input": [
      "%resolvers += \"ScalaNLP Maven2\" at \"http://repo.scalanlp.org/repo\""
     ],
     "language": "python",
     "metadata": {},
     "outputs": [
      {
       "output_type": "stream",
       "stream": "stderr",
       "text": []
      },
      {
       "output_type": "stream",
       "stream": "stdout",
       "text": []
      }
     ],
     "prompt_number": 3
    },
    {
     "cell_type": "code",
     "collapsed": false,
     "input": [
      "%resolvers += \"Scala Tools Snapshots\" at \"http://scala-tools.org/repo-snapshots/\""
     ],
     "language": "python",
     "metadata": {},
     "outputs": [
      {
       "output_type": "stream",
       "stream": "stdout",
       "text": []
      },
      {
       "output_type": "stream",
       "stream": "stderr",
       "text": []
      }
     ],
     "prompt_number": 4
    },
    {
     "cell_type": "code",
     "collapsed": false,
     "input": [
      "%resolvers += \"Typesafe Repository\" at \"http://repo.typesafe.com/typesafe/releases/\""
     ],
     "language": "python",
     "metadata": {},
     "outputs": [
      {
       "output_type": "stream",
       "stream": "stderr",
       "text": []
      },
      {
       "output_type": "stream",
       "stream": "stdout",
       "text": []
      }
     ],
     "prompt_number": 5
    },
    {
     "cell_type": "code",
     "collapsed": false,
     "input": [
      "%resolvers += \"Sonatype Snapshots\" at \"https://oss.sonatype.org/content/repositories/snapshots\""
     ],
     "language": "python",
     "metadata": {},
     "outputs": [
      {
       "output_type": "stream",
       "stream": "stderr",
       "text": []
      },
      {
       "output_type": "stream",
       "stream": "stdout",
       "text": []
      }
     ],
     "prompt_number": 11
    },
    {
     "cell_type": "code",
     "collapsed": false,
     "input": [
      "%libraryDependencies += \"org.scalanlp\" %% \"breeze\" % \"0.6-SNAPSHOT\""
     ],
     "language": "python",
     "metadata": {},
     "outputs": [
      {
       "output_type": "stream",
       "stream": "stdout",
       "text": []
      },
      {
       "output_type": "stream",
       "stream": "stderr",
       "text": []
      }
     ],
     "prompt_number": 12
    },
    {
     "cell_type": "code",
     "collapsed": false,
     "input": [
      "%update"
     ],
     "language": "python",
     "metadata": {},
     "outputs": [
      {
       "output_type": "stream",
       "stream": "stdout",
       "text": [
        "[info] Resolving org.scalanlp#breeze_2.10;0.6-SNAPSHOT ...\n"
       ]
      },
      {
       "output_type": "stream",
       "stream": "stdout",
       "text": [
        "[info] Resolving org.scala-lang#scala-library;2.10.3 ...\n",
        "[info] Resolving org.scalanlp#breeze-macros_2.10;0.1 ...\n"
       ]
      },
      {
       "output_type": "stream",
       "stream": "stdout",
       "text": [
        "[info] Resolving org.scala-lang#scala-reflect;2.10.3 ...\n"
       ]
      },
      {
       "output_type": "stream",
       "stream": "stdout",
       "text": [
        "[info] Resolving com.thoughtworks.paranamer#paranamer;2.2 ...\n",
        "[info] Resolving com.github.fommil.netlib#all;1.1.2 ...\n"
       ]
      },
      {
       "output_type": "stream",
       "stream": "stdout",
       "text": [
        "[info] Resolving net.sourceforge.f2j#arpack_combined_all;0.1 ...\n"
       ]
      },
      {
       "output_type": "stream",
       "stream": "stdout",
       "text": [
        "[info] Resolving com.github.fommil.netlib#core;1.1.2 ...\n"
       ]
      },
      {
       "output_type": "stream",
       "stream": "stdout",
       "text": [
        "[info] Resolving com.github.fommil.netlib#netlib-native_ref-osx-x86_64;1.1 ...\n"
       ]
      },
      {
       "output_type": "stream",
       "stream": "stdout",
       "text": [
        "[info] Resolving com.github.fommil.netlib#native_ref-java;1.1 ...\n"
       ]
      },
      {
       "output_type": "stream",
       "stream": "stdout",
       "text": [
        "[info] Resolving com.github.fommil#jniloader;1.1 ...\n"
       ]
      },
      {
       "output_type": "stream",
       "stream": "stdout",
       "text": [
        "[info] Resolving com.github.fommil.netlib#netlib-native_ref-linux-x86_64;1.1 ...\n",
        "[info] Resolving com.github.fommil.netlib#netlib-native_ref-linux-i686;1.1 ...\n"
       ]
      },
      {
       "output_type": "stream",
       "stream": "stdout",
       "text": [
        "[info] Resolving com.github.fommil.netlib#netlib-native_ref-win-x86_64;1.1 ...\n"
       ]
      },
      {
       "output_type": "stream",
       "stream": "stdout",
       "text": [
        "[info] Resolving com.github.fommil.netlib#netlib-native_ref-win-i686;1.1 ...\n"
       ]
      },
      {
       "output_type": "stream",
       "stream": "stdout",
       "text": [
        "[info] Resolving com.github.fommil.netlib#netlib-native_ref-linux-armhf;1.1 ...\n",
        "[info] Resolving com.github.fommil.netlib#netlib-native_system-osx-x86_64;1.1 ...\n"
       ]
      },
      {
       "output_type": "stream",
       "stream": "stdout",
       "text": [
        "[info] Resolving com.github.fommil.netlib#native_system-java;1.1 ...\n"
       ]
      },
      {
       "output_type": "stream",
       "stream": "stdout",
       "text": [
        "[info] Resolving com.github.fommil.netlib#netlib-native_system-linux-x86_64;1.1 ...\n",
        "[info] Resolving com.github.fommil.netlib#netlib-native_system-linux-i686;1.1 ...\n"
       ]
      },
      {
       "output_type": "stream",
       "stream": "stdout",
       "text": [
        "[info] Resolving com.github.fommil.netlib#netlib-native_system-linux-armhf;1.1 ...\n"
       ]
      },
      {
       "output_type": "stream",
       "stream": "stdout",
       "text": [
        "[info] Resolving com.github.fommil.netlib#netlib-native_system-win-x86_64;1.1 ...\n",
        "[info] Resolving com.github.fommil.netlib#netlib-native_system-win-i686;1.1 ...\n"
       ]
      },
      {
       "output_type": "stream",
       "stream": "stdout",
       "text": [
        "[info] Resolving org.scalanlp#lpsolve;5.5.2-SNAPSHOT ...\n"
       ]
      },
      {
       "output_type": "stream",
       "stream": "stdout",
       "text": [
        "[info] Resolving net.sf.opencsv#opencsv;2.3 ...\n",
        "[info] Resolving com.github.rwl#jtransforms;2.4.0 ...\n",
        "[info] Resolving junit#junit;4.8.2 ...\n",
        "[info] Resolving org.apache.commons#commons-math3;3.2 ...\n",
        "[info] Resolving com.typesafe#scalalogging-slf4j_2.10;1.0.1 ...\n",
        "[info] Resolving org.slf4j#slf4j-api;1.7.2 ...\n"
       ]
      },
      {
       "output_type": "stream",
       "stream": "stderr",
       "text": []
      }
     ]
    },
    {
     "cell_type": "code",
     "collapsed": false,
     "input": [
      "import breeze.linalg._\n",
      "import breeze.stats.distributions._"
     ],
     "language": "python",
     "metadata": {},
     "outputs": [
      {
       "output_type": "stream",
       "stream": "stdout",
       "text": []
      },
      {
       "output_type": "stream",
       "stream": "stderr",
       "text": []
      }
     ],
     "prompt_number": 1
    },
    {
     "cell_type": "code",
     "collapsed": false,
     "input": [
      "val x = DenseMatrix.fill(10,10)(Gaussian(0,1).draw())"
     ],
     "language": "python",
     "metadata": {},
     "outputs": [
      {
       "output_type": "stream",
       "stream": "stdout",
       "text": []
      },
      {
       "output_type": "stream",
       "stream": "stderr",
       "text": []
      },
      {
       "metadata": {},
       "output_type": "pyout",
       "prompt_number": 4,
       "text": [
        "0.4695170376110142   0.5086639312405534    ... (10 total)\n",
        "0.2604624080687952   -0.03678938632256435  ...\n",
        "-1.0528337756159565  0.10082649287241126   ...\n",
        "-0.550492849679171   -0.5761878622563654   ...\n",
        "-0.9817603551889219  0.7958446618784706    ...\n",
        "-1.0001995322763473  -1.2424889465651479   ...\n",
        "-0.5879313146878662  1.206569217055404     ...\n",
        "1.890300548243616    -0.30273380341887257  ...\n",
        "0.24792587873136573  -0.04329745764599858  ...\n",
        "1.5057194826425122   0.9516921598743895    ..."
       ]
      }
     ],
     "prompt_number": 4
    },
    {
     "cell_type": "code",
     "collapsed": false,
     "input": [
      "import breeze-viz.plot._"
     ],
     "language": "python",
     "metadata": {},
     "outputs": [
      {
       "output_type": "stream",
       "stream": "stdout",
       "text": []
      },
      {
       "output_type": "stream",
       "stream": "stderr",
       "text": []
      },
      {
       "ename": "",
       "evalue": "",
       "output_type": "pyerr",
       "traceback": [
        "<console>:13: error: not found: value breezeviz",
        "       import breezeviz.plot._",
        "              ^"
       ]
      }
     ],
     "prompt_number": 7
    },
    {
     "cell_type": "code",
     "collapsed": false,
     "input": [
      "%libraryDependencies += \"org.scalanlp\" %% \"breeze-viz\" % \"0.5.2\""
     ],
     "language": "python",
     "metadata": {},
     "outputs": [
      {
       "output_type": "stream",
       "stream": "stderr",
       "text": []
      },
      {
       "output_type": "stream",
       "stream": "stdout",
       "text": []
      }
     ],
     "prompt_number": 9
    },
    {
     "cell_type": "code",
     "collapsed": false,
     "input": [
      "import breeze.plot._"
     ],
     "language": "python",
     "metadata": {},
     "outputs": [
      {
       "output_type": "stream",
       "stream": "stderr",
       "text": []
      },
      {
       "output_type": "stream",
       "stream": "stdout",
       "text": []
      }
     ],
     "prompt_number": 6
    },
    {
     "cell_type": "code",
     "collapsed": false,
     "input": [
      "%update"
     ],
     "language": "python",
     "metadata": {},
     "outputs": [
      {
       "output_type": "stream",
       "stream": "stdout",
       "text": [
        "[info] Resolving org.scalanlp#breeze_2.10;0.6-SNAPSHOT ...\n"
       ]
      },
      {
       "output_type": "stream",
       "stream": "stdout",
       "text": [
        "[info] Resolving org.scala-lang#scala-library;2.10.3 ...\n",
        "[info] Resolving org.scalanlp#breeze-macros_2.10;0.1 ...\n",
        "[info] Resolving org.scala-lang#scala-reflect;2.10.3 ...\n",
        "[info] Resolving com.thoughtworks.paranamer#paranamer;2.2 ...\n",
        "[info] Resolving com.github.fommil.netlib#all;1.1.2 ...\n",
        "[info] Resolving net.sourceforge.f2j#arpack_combined_all;0.1 ...\n",
        "[info] Resolving com.github.fommil.netlib#core;1.1.2 ...\n",
        "[info] Resolving com.github.fommil.netlib#netlib-native_ref-osx-x86_64;1.1 ...\n",
        "[info] Resolving com.github.fommil.netlib#native_ref-java;1.1 ...\n",
        "[info] Resolving com.github.fommil#jniloader;1.1 ...\n",
        "[info] Resolving com.github.fommil.netlib#netlib-native_ref-linux-x86_64;1.1 ...\n",
        "[info] Resolving com.github.fommil.netlib#netlib-native_ref-linux-i686;1.1 ...\n",
        "[info] Resolving com.github.fommil.netlib#netlib-native_ref-win-x86_64;1.1 ...\n",
        "[info] Resolving com.github.fommil.netlib#netlib-native_ref-win-i686;1.1 ...\n"
       ]
      },
      {
       "output_type": "stream",
       "stream": "stdout",
       "text": [
        "[info] Resolving com.github.fommil.netlib#netlib-native_ref-linux-armhf;1.1 ...\n",
        "[info] Resolving com.github.fommil.netlib#netlib-native_system-osx-x86_64;1.1 ...\n",
        "[info] Resolving com.github.fommil.netlib#native_system-java;1.1 ...\n"
       ]
      },
      {
       "output_type": "stream",
       "stream": "stdout",
       "text": [
        "[info] Resolving com.github.fommil.netlib#netlib-native_system-linux-x86_64;1.1 ...\n",
        "[info] Resolving com.github.fommil.netlib#netlib-native_system-linux-i686;1.1 ...\n"
       ]
      },
      {
       "output_type": "stream",
       "stream": "stdout",
       "text": [
        "[info] Resolving com.github.fommil.netlib#netlib-native_system-linux-armhf;1.1 ...\n",
        "[info] Resolving com.github.fommil.netlib#netlib-native_system-win-x86_64;1.1 ...\n",
        "[info] Resolving com.github.fommil.netlib#netlib-native_system-win-i686;1.1 ...\n"
       ]
      },
      {
       "output_type": "stream",
       "stream": "stdout",
       "text": [
        "[info] Resolving org.scalanlp#lpsolve;5.5.2-SNAPSHOT ...\n"
       ]
      },
      {
       "output_type": "stream",
       "stream": "stdout",
       "text": [
        "[info] Resolving net.sf.opencsv#opencsv;2.3 ...\n",
        "[info] Resolving com.github.rwl#jtransforms;2.4.0 ...\n",
        "[info] Resolving junit#junit;4.8.2 ...\n",
        "[info] Resolving org.apache.commons#commons-math3;3.2 ...\n",
        "[info] Resolving com.typesafe#scalalogging-slf4j_2.10;1.0.1 ...\n",
        "[info] Resolving org.slf4j#slf4j-api;1.7.2 ...\n",
        "[info] Resolving org.scalanlp#breeze-viz_2.10;0.5.2 ...\n",
        "[info] Resolving jfree#jcommon;1.0.16 ...\n",
        "[info] Resolving jfree#jfreechart;1.0.13 ...\n",
        "[info] Resolving org.apache.xmlgraphics#xmlgraphics-commons;1.3.1 ...\n",
        "[info] Resolving commons-io#commons-io;1.3.1 ...\n",
        "[info] Resolving commons-logging#commons-logging;1.0.4 ...\n",
        "[info] Resolving com.lowagie#itext;2.1.5 ...\n",
        "[info] Resolving bouncycastle#bcmail-jdk14;138 ...\n",
        "[info] Resolving bouncycastle#bcprov-jdk14;138 ...\n"
       ]
      },
      {
       "output_type": "stream",
       "stream": "stderr",
       "text": []
      }
     ]
    },
    {
     "cell_type": "code",
     "collapsed": false,
     "input": [
      "image(x)"
     ],
     "language": "python",
     "metadata": {},
     "outputs": [
      {
       "output_type": "stream",
       "stream": "stderr",
       "text": []
      },
      {
       "output_type": "stream",
       "stream": "stdout",
       "text": []
      },
      {
       "ename": "",
       "evalue": "",
       "output_type": "pyerr",
       "traceback": [
        "<console>:11: error: not found: value x",
        "Error occurred in an application involving default arguments.",
        "              image(x)",
        "                    ^"
       ]
      }
     ],
     "prompt_number": 7
    },
    {
     "cell_type": "code",
     "collapsed": false,
     "input": [
      "import breeze.linalg._\n",
      "import breeze.stats.distributions._"
     ],
     "language": "python",
     "metadata": {},
     "outputs": [
      {
       "output_type": "stream",
       "stream": "stderr",
       "text": []
      },
      {
       "output_type": "stream",
       "stream": "stdout",
       "text": []
      }
     ],
     "prompt_number": 8
    },
    {
     "cell_type": "code",
     "collapsed": false,
     "input": [
      "val x = DenseMatrix.fill(10,10)(Gaussian(0,1).draw())"
     ],
     "language": "python",
     "metadata": {},
     "outputs": [
      {
       "output_type": "stream",
       "stream": "stderr",
       "text": []
      },
      {
       "output_type": "stream",
       "stream": "stdout",
       "text": []
      },
      {
       "metadata": {},
       "output_type": "pyout",
       "prompt_number": 9,
       "text": [
        "-0.09247091439439628  -1.45417770910153    0.10177200696925111   ... (10 total)\n",
        "-0.14880179430177332  -0.2542110229056775  0.550464816534403     ...\n",
        "0.40524580710325087   -0.5523707861639429  -0.7613038328374518   ...\n",
        "-0.0607757350711552   0.5848592329586689   0.6187732478714206    ...\n",
        "0.2903238532910474    -2.0280341776090025  0.036701888617993436  ...\n",
        "1.4474565023898205    -1.4229889303020051  1.0249764560563364    ...\n",
        "0.22096333503350932   -1.0773766163502145  1.1883750110727311    ...\n",
        "-0.7762941753602918   -0.7795953206087841  1.6770701623814368    ...\n",
        "0.685807753847388     0.23439217076799243  0.6675393385571884    ...\n",
        "-0.9420867331043649   -1.9858443883939156  -0.5416814338677309   ..."
       ]
      }
     ],
     "prompt_number": 9
    },
    {
     "cell_type": "code",
     "collapsed": false,
     "input": [
      "import breeze.plot._"
     ],
     "language": "python",
     "metadata": {},
     "outputs": [
      {
       "output_type": "stream",
       "stream": "stdout",
       "text": []
      },
      {
       "output_type": "stream",
       "stream": "stderr",
       "text": []
      }
     ],
     "prompt_number": 10
    },
    {
     "cell_type": "code",
     "collapsed": false,
     "input": [
      "image(x)"
     ],
     "language": "python",
     "metadata": {},
     "outputs": [
      {
       "output_type": "stream",
       "stream": "stderr",
       "text": []
      },
      {
       "output_type": "stream",
       "stream": "stdout",
       "text": []
      },
      {
       "metadata": {},
       "output_type": "pyout",
       "prompt_number": 11,
       "text": [
        "breeze.plot.package$$anon$9@31161acd"
       ]
      }
     ],
     "prompt_number": 11
    },
    {
     "cell_type": "code",
     "collapsed": false,
     "input": [],
     "language": "python",
     "metadata": {},
     "outputs": []
    }
   ],
   "metadata": {}
  }
 ]
}