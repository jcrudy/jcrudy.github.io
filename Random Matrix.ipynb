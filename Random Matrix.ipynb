{
 "metadata": {
  "name": ""
 },
 "nbformat": 3,
 "nbformat_minor": 0,
 "worksheets": [
  {
   "cells": [
    {
     "cell_type": "code",
     "collapsed": false,
     "input": [
      "import breeze.linalg._\n",
      "import breeze.stats.distributions._"
     ],
     "language": "python",
     "metadata": {},
     "outputs": [
      {
       "output_type": "stream",
       "stream": "stderr",
       "text": []
      },
      {
       "output_type": "stream",
       "stream": "stdout",
       "text": []
      },
      {
       "ename": "",
       "evalue": "",
       "output_type": "pyerr",
       "traceback": [
        "<console>:7: error: not found: value breeze",
        "       import breeze.linalg._",
        "              ^",
        "<console>:8: error: not found: value breeze",
        "       import breeze.stats.distributions._",
        "              ^"
       ]
      }
     ],
     "prompt_number": 1
    },
    {
     "cell_type": "code",
     "collapsed": false,
     "input": [
      "%resolvers += \"ScalaNLP Maven2\" at \"http://repo.scalanlp.org/repo\""
     ],
     "language": "python",
     "metadata": {},
     "outputs": [
      {
       "output_type": "stream",
       "stream": "stderr",
       "text": []
      },
      {
       "output_type": "stream",
       "stream": "stdout",
       "text": []
      }
     ],
     "prompt_number": 3
    },
    {
     "cell_type": "code",
     "collapsed": false,
     "input": [
      "%resolvers += \"Scala Tools Snapshots\" at \"http://scala-tools.org/repo-snapshots/\""
     ],
     "language": "python",
     "metadata": {},
     "outputs": [
      {
       "output_type": "stream",
       "stream": "stdout",
       "text": []
      },
      {
       "output_type": "stream",
       "stream": "stderr",
       "text": []
      }
     ],
     "prompt_number": 4
    },
    {
     "cell_type": "code",
     "collapsed": false,
     "input": [
      "%resolvers += \"Typesafe Repository\" at \"http://repo.typesafe.com/typesafe/releases/\""
     ],
     "language": "python",
     "metadata": {},
     "outputs": [
      {
       "output_type": "stream",
       "stream": "stderr",
       "text": []
      },
      {
       "output_type": "stream",
       "stream": "stdout",
       "text": []
      }
     ],
     "prompt_number": 5
    },
    {
     "cell_type": "code",
     "collapsed": false,
     "input": [
      "%resolvers += \"Sonatype Snapshots\" at \"https://oss.sonatype.org/content/repositories/snapshots\""
     ],
     "language": "python",
     "metadata": {},
     "outputs": [
      {
       "output_type": "stream",
       "stream": "stderr",
       "text": []
      },
      {
       "output_type": "stream",
       "stream": "stdout",
       "text": []
      }
     ],
     "prompt_number": 11
    },
    {
     "cell_type": "code",
     "collapsed": false,
     "input": [
      "%libraryDependencies += \"org.scalanlp\" %% \"breeze\" % \"0.6-SNAPSHOT\""
     ],
     "language": "python",
     "metadata": {},
     "outputs": [
      {
       "output_type": "stream",
       "stream": "stdout",
       "text": []
      },
      {
       "output_type": "stream",
       "stream": "stderr",
       "text": []
      }
     ],
     "prompt_number": 12
    },
    {
     "cell_type": "code",
     "collapsed": false,
     "input": [
      "%update"
     ],
     "language": "python",
     "metadata": {},
     "outputs": [
      {
       "output_type": "stream",
       "stream": "stdout",
       "text": [
        "[info] Resolving org.scalanlp#breeze_2.10;0.6-SNAPSHOT ...\n"
       ]
      },
      {
       "output_type": "stream",
       "stream": "stdout",
       "text": [
        "[info] Resolving org.scala-lang#scala-library;2.10.3 ...\n",
        "[info] Resolving org.scalanlp#breeze-macros_2.10;0.1 ...\n"
       ]
      },
      {
       "output_type": "stream",
       "stream": "stdout",
       "text": [
        "[info] Resolving org.scala-lang#scala-reflect;2.10.3 ...\n"
       ]
      },
      {
       "output_type": "stream",
       "stream": "stdout",
       "text": [
        "[info] Resolving com.thoughtworks.paranamer#paranamer;2.2 ...\n",
        "[info] Resolving com.github.fommil.netlib#all;1.1.2 ...\n"
       ]
      },
      {
       "output_type": "stream",
       "stream": "stdout",
       "text": [
        "[info] Resolving net.sourceforge.f2j#arpack_combined_all;0.1 ...\n"
       ]
      },
      {
       "output_type": "stream",
       "stream": "stdout",
       "text": [
        "[info] Resolving com.github.fommil.netlib#core;1.1.2 ...\n"
       ]
      },
      {
       "output_type": "stream",
       "stream": "stdout",
       "text": [
        "[info] Resolving com.github.fommil.netlib#netlib-native_ref-osx-x86_64;1.1 ...\n"
       ]
      },
      {
       "output_type": "stream",
       "stream": "stdout",
       "text": [
        "[info] Resolving com.github.fommil.netlib#native_ref-java;1.1 ...\n"
       ]
      },
      {
       "output_type": "stream",
       "stream": "stdout",
       "text": [
        "[info] Resolving com.github.fommil#jniloader;1.1 ...\n"
       ]
      },
      {
       "output_type": "stream",
       "stream": "stdout",
       "text": [
        "[info] Resolving com.github.fommil.netlib#netlib-native_ref-linux-x86_64;1.1 ...\n",
        "[info] Resolving com.github.fommil.netlib#netlib-native_ref-linux-i686;1.1 ...\n"
       ]
      },
      {
       "output_type": "stream",
       "stream": "stdout",
       "text": [
        "[info] Resolving com.github.fommil.netlib#netlib-native_ref-win-x86_64;1.1 ...\n"
       ]
      },
      {
       "output_type": "stream",
       "stream": "stdout",
       "text": [
        "[info] Resolving com.github.fommil.netlib#netlib-native_ref-win-i686;1.1 ...\n"
       ]
      },
      {
       "output_type": "stream",
       "stream": "stdout",
       "text": [
        "[info] Resolving com.github.fommil.netlib#netlib-native_ref-linux-armhf;1.1 ...\n",
        "[info] Resolving com.github.fommil.netlib#netlib-native_system-osx-x86_64;1.1 ...\n"
       ]
      },
      {
       "output_type": "stream",
       "stream": "stdout",
       "text": [
        "[info] Resolving com.github.fommil.netlib#native_system-java;1.1 ...\n"
       ]
      },
      {
       "output_type": "stream",
       "stream": "stdout",
       "text": [
        "[info] Resolving com.github.fommil.netlib#netlib-native_system-linux-x86_64;1.1 ...\n",
        "[info] Resolving com.github.fommil.netlib#netlib-native_system-linux-i686;1.1 ...\n"
       ]
      },
      {
       "output_type": "stream",
       "stream": "stdout",
       "text": [
        "[info] Resolving com.github.fommil.netlib#netlib-native_system-linux-armhf;1.1 ...\n"
       ]
      },
      {
       "output_type": "stream",
       "stream": "stdout",
       "text": [
        "[info] Resolving com.github.fommil.netlib#netlib-native_system-win-x86_64;1.1 ...\n",
        "[info] Resolving com.github.fommil.netlib#netlib-native_system-win-i686;1.1 ...\n"
       ]
      },
      {
       "output_type": "stream",
       "stream": "stdout",
       "text": [
        "[info] Resolving org.scalanlp#lpsolve;5.5.2-SNAPSHOT ...\n"
       ]
      },
      {
       "output_type": "stream",
       "stream": "stdout",
       "text": [
        "[info] Resolving net.sf.opencsv#opencsv;2.3 ...\n",
        "[info] Resolving com.github.rwl#jtransforms;2.4.0 ...\n",
        "[info] Resolving junit#junit;4.8.2 ...\n",
        "[info] Resolving org.apache.commons#commons-math3;3.2 ...\n",
        "[info] Resolving com.typesafe#scalalogging-slf4j_2.10;1.0.1 ...\n",
        "[info] Resolving org.slf4j#slf4j-api;1.7.2 ...\n"
       ]
      },
      {
       "output_type": "stream",
       "stream": "stderr",
       "text": []
      }
     ]
    },
    {
     "cell_type": "code",
     "collapsed": false,
     "input": [
      "import breeze.linalg._\n",
      "import breeze.stats.distributions._"
     ],
     "language": "python",
     "metadata": {},
     "outputs": [
      {
       "output_type": "stream",
       "stream": "stdout",
       "text": []
      },
      {
       "output_type": "stream",
       "stream": "stderr",
       "text": []
      }
     ],
     "prompt_number": 1
    },
    {
     "cell_type": "code",
     "collapsed": false,
     "input": [
      "val x = DenseMatrix.fill(10,10)(Gaussian(0,1).draw())"
     ],
     "language": "python",
     "metadata": {},
     "outputs": [
      {
       "output_type": "stream",
       "stream": "stdout",
       "text": []
      },
      {
       "output_type": "stream",
       "stream": "stderr",
       "text": []
      },
      {
       "metadata": {},
       "output_type": "pyout",
       "prompt_number": 4,
       "text": [
        "0.4695170376110142   0.5086639312405534    ... (10 total)\n",
        "0.2604624080687952   -0.03678938632256435  ...\n",
        "-1.0528337756159565  0.10082649287241126   ...\n",
        "-0.550492849679171   -0.5761878622563654   ...\n",
        "-0.9817603551889219  0.7958446618784706    ...\n",
        "-1.0001995322763473  -1.2424889465651479   ...\n",
        "-0.5879313146878662  1.206569217055404     ...\n",
        "1.890300548243616    -0.30273380341887257  ...\n",
        "0.24792587873136573  -0.04329745764599858  ...\n",
        "1.5057194826425122   0.9516921598743895    ..."
       ]
      }
     ],
     "prompt_number": 4
    },
    {
     "cell_type": "code",
     "collapsed": false,
     "input": [
      "import breeze-viz.plot._"
     ],
     "language": "python",
     "metadata": {},
     "outputs": [
      {
       "output_type": "stream",
       "stream": "stdout",
       "text": []
      },
      {
       "output_type": "stream",
       "stream": "stderr",
       "text": []
      },
      {
       "ename": "",
       "evalue": "",
       "output_type": "pyerr",
       "traceback": [
        "<console>:13: error: not found: value breezeviz",
        "       import breezeviz.plot._",
        "              ^"
       ]
      }
     ],
     "prompt_number": 7
    },
    {
     "cell_type": "code",
     "collapsed": false,
     "input": [
      "%libraryDependencies += \"org.scalanlp\" %% \"breeze-viz\" % \"0.5.2\""
     ],
     "language": "python",
     "metadata": {},
     "outputs": [
      {
       "output_type": "stream",
       "stream": "stderr",
       "text": []
      },
      {
       "output_type": "stream",
       "stream": "stdout",
       "text": []
      }
     ],
     "prompt_number": 9
    },
    {
     "cell_type": "code",
     "collapsed": false,
     "input": [
      "import breeze.plot._"
     ],
     "language": "python",
     "metadata": {},
     "outputs": [
      {
       "output_type": "stream",
       "stream": "stderr",
       "text": []
      },
      {
       "output_type": "stream",
       "stream": "stdout",
       "text": []
      }
     ],
     "prompt_number": 6
    },
    {
     "cell_type": "code",
     "collapsed": false,
     "input": [
      "%update"
     ],
     "language": "python",
     "metadata": {},
     "outputs": [
      {
       "output_type": "stream",
       "stream": "stdout",
       "text": [
        "[info] Resolving org.scalanlp#breeze_2.10;0.6-SNAPSHOT ...\n"
       ]
      },
      {
       "output_type": "stream",
       "stream": "stdout",
       "text": [
        "[info] Resolving org.scala-lang#scala-library;2.10.3 ...\n",
        "[info] Resolving org.scalanlp#breeze-macros_2.10;0.1 ...\n",
        "[info] Resolving org.scala-lang#scala-reflect;2.10.3 ...\n",
        "[info] Resolving com.thoughtworks.paranamer#paranamer;2.2 ...\n",
        "[info] Resolving com.github.fommil.netlib#all;1.1.2 ...\n",
        "[info] Resolving net.sourceforge.f2j#arpack_combined_all;0.1 ...\n",
        "[info] Resolving com.github.fommil.netlib#core;1.1.2 ...\n",
        "[info] Resolving com.github.fommil.netlib#netlib-native_ref-osx-x86_64;1.1 ...\n",
        "[info] Resolving com.github.fommil.netlib#native_ref-java;1.1 ...\n",
        "[info] Resolving com.github.fommil#jniloader;1.1 ...\n",
        "[info] Resolving com.github.fommil.netlib#netlib-native_ref-linux-x86_64;1.1 ...\n",
        "[info] Resolving com.github.fommil.netlib#netlib-native_ref-linux-i686;1.1 ...\n",
        "[info] Resolving com.github.fommil.netlib#netlib-native_ref-win-x86_64;1.1 ...\n",
        "[info] Resolving com.github.fommil.netlib#netlib-native_ref-win-i686;1.1 ...\n"
       ]
      },
      {
       "output_type": "stream",
       "stream": "stdout",
       "text": [
        "[info] Resolving com.github.fommil.netlib#netlib-native_ref-linux-armhf;1.1 ...\n",
        "[info] Resolving com.github.fommil.netlib#netlib-native_system-osx-x86_64;1.1 ...\n",
        "[info] Resolving com.github.fommil.netlib#native_system-java;1.1 ...\n"
       ]
      },
      {
       "output_type": "stream",
       "stream": "stdout",
       "text": [
        "[info] Resolving com.github.fommil.netlib#netlib-native_system-linux-x86_64;1.1 ...\n",
        "[info] Resolving com.github.fommil.netlib#netlib-native_system-linux-i686;1.1 ...\n"
       ]
      },
      {
       "output_type": "stream",
       "stream": "stdout",
       "text": [
        "[info] Resolving com.github.fommil.netlib#netlib-native_system-linux-armhf;1.1 ...\n",
        "[info] Resolving com.github.fommil.netlib#netlib-native_system-win-x86_64;1.1 ...\n",
        "[info] Resolving com.github.fommil.netlib#netlib-native_system-win-i686;1.1 ...\n"
       ]
      },
      {
       "output_type": "stream",
       "stream": "stdout",
       "text": [
        "[info] Resolving org.scalanlp#lpsolve;5.5.2-SNAPSHOT ...\n"
       ]
      },
      {
       "output_type": "stream",
       "stream": "stdout",
       "text": [
        "[info] Resolving net.sf.opencsv#opencsv;2.3 ...\n",
        "[info] Resolving com.github.rwl#jtransforms;2.4.0 ...\n",
        "[info] Resolving junit#junit;4.8.2 ...\n",
        "[info] Resolving org.apache.commons#commons-math3;3.2 ...\n",
        "[info] Resolving com.typesafe#scalalogging-slf4j_2.10;1.0.1 ...\n",
        "[info] Resolving org.slf4j#slf4j-api;1.7.2 ...\n",
        "[info] Resolving org.scalanlp#breeze-viz_2.10;0.5.2 ...\n",
        "[info] Resolving jfree#jcommon;1.0.16 ...\n",
        "[info] Resolving jfree#jfreechart;1.0.13 ...\n",
        "[info] Resolving org.apache.xmlgraphics#xmlgraphics-commons;1.3.1 ...\n",
        "[info] Resolving commons-io#commons-io;1.3.1 ...\n",
        "[info] Resolving commons-logging#commons-logging;1.0.4 ...\n",
        "[info] Resolving com.lowagie#itext;2.1.5 ...\n",
        "[info] Resolving bouncycastle#bcmail-jdk14;138 ...\n",
        "[info] Resolving bouncycastle#bcprov-jdk14;138 ...\n"
       ]
      },
      {
       "output_type": "stream",
       "stream": "stderr",
       "text": []
      }
     ]
    },
    {
     "cell_type": "code",
     "collapsed": false,
     "input": [
      "image(x)"
     ],
     "language": "python",
     "metadata": {},
     "outputs": [
      {
       "output_type": "stream",
       "stream": "stderr",
       "text": []
      },
      {
       "output_type": "stream",
       "stream": "stdout",
       "text": []
      },
      {
       "ename": "",
       "evalue": "",
       "output_type": "pyerr",
       "traceback": [
        "<console>:11: error: not found: value x",
        "Error occurred in an application involving default arguments.",
        "              image(x)",
        "                    ^"
       ]
      }
     ],
     "prompt_number": 7
    },
    {
     "cell_type": "code",
     "collapsed": false,
     "input": [
      "import breeze.linalg._\n",
      "import breeze.stats.distributions._"
     ],
     "language": "python",
     "metadata": {},
     "outputs": [
      {
       "output_type": "stream",
       "stream": "stderr",
       "text": []
      },
      {
       "output_type": "stream",
       "stream": "stdout",
       "text": []
      }
     ],
     "prompt_number": 8
    },
    {
     "cell_type": "code",
     "collapsed": false,
     "input": [
      "val x = DenseMatrix.fill(100,100)(Gaussian(0,1).draw())"
     ],
     "language": "python",
     "metadata": {},
     "outputs": [
      {
       "output_type": "stream",
       "stream": "stdout",
       "text": []
      },
      {
       "output_type": "stream",
       "stream": "stderr",
       "text": []
      },
      {
       "metadata": {},
       "output_type": "pyout",
       "prompt_number": 18,
       "text": [
        "-0.4450289924828258     -0.4834967731188457   ... (100 total)\n",
        "-1.480916983430979      0.616374403858851     ...\n",
        "0.3380249615648766      0.5211934046791288    ...\n",
        "-0.8788841764316261     0.12789808724519167   ...\n",
        "1.2014965705906517      0.31656911616264344   ...\n",
        "-0.6046989724623779     -0.2226557058383058   ...\n",
        "0.4570420361046508      -2.794551387664019    ...\n",
        "-0.24725960536601252    -0.5601590321445825   ...\n",
        "0.41683236595858386     1.077138987348885     ...\n",
        "-0.5505896624386268     -0.7935565624990875   ...\n",
        "0.919279924411933       0.6421966512697523    ...\n",
        "-0.18020530815400812    1.8491390103452694    ...\n",
        "0.5218922198141543      -0.29095154815694574  ...\n",
        "1.6904048936518878      -0.8521100614362965   ...\n",
        "-0.9675273664521987     -0.3746996011810815   ...\n",
        "-0.0016350237727972494  0.08287889839141091   ...\n",
        "-0.3773965599771521     -0.5711936470656803   ...\n",
        "0.033010254079839145    1.2772855504549987    ...\n",
        "0.493618384869386       0.658142725108977     ...\n",
        "0.511579317172339       1.3984103368825576    ...\n",
        "1.6926465352802926      -0.3059207892957656   ...\n",
        "0.04086223555173083     0.3900009147295255    ...\n",
        "0.3364420229489338      -1.6003343965158683   ...\n",
        "-0.2622740080915369     -1.4877842905455119   ...\n",
        "0.23596690320737573     1.658198318855314     ...\n",
        "-1.1628400942806947     1.5953532153778083    ...\n",
        "0.888181255382073       0.5345629480770335    ...\n",
        "-0.3251233662362271     0.43979077754921814   ...\n",
        "-0.13763042069429265    -0.35846882977171723  ...\n",
        "0.07317634209374951     -0.5842181430619959   ...\n",
        "0.6084538199244577      -1.0920809745975057   ...\n",
        "-0.21866115687151227    -1.527618102417207    ...\n",
        "0.7219977176762664      1.3996553616031635    ...\n",
        "-0.49879543963071044    -0.9308039655547006   ...\n",
        "0.6699771734295403      -0.8700419352463783   ...\n",
        "0.4682778891269832      0.9935385374110995    ...\n",
        "-0.0775341945644643     0.7702145520889844    ...\n",
        "-0.16064716458956       -0.5992291994434746   ...\n",
        "0.4158495485000377      0.2444195548921865    ...\n",
        "-1.6035537021355253     0.1577785609402237    ...\n",
        "0.15739536955876077     1.0111679578345008    ...\n",
        "-0.35900111339351004    0.8276272963731488    ...\n",
        "1.6177983670350564      0.9666987508935934    ...\n",
        "0.3946921164412041      -0.26665752741809445  ...\n",
        "0.17967687692660922     0.42751672356476866   ...\n",
        "-1.112483097265565      0.7509641851613647    ...\n",
        "0.8807305683212177      -1.2885907999471502   ...\n",
        "1.0537387868163668      -0.4357978208154241   ...\n",
        "0.9020862564884815      0.6828019375300897    ...\n",
        "-1.8027206252064074     -0.6006515151508423   ...\n",
        "0.5942811181413092      -1.0118799234021032   ...\n",
        "-0.6710211908697871     -0.42733117228129597  ...\n",
        "-0.43251140954574463    0.34704378378083095   ...\n",
        "1.6450174308766476      0.4699739677370813    ...\n",
        "1.7613617148593388      -0.5776973986152002   ...\n",
        "-1.3919608863536987     0.3940438543123739    ...\n",
        "-0.39917201059079915    0.5464804947427018    ...\n",
        "1.61905126581951        0.5695203237087056    ...\n",
        "-0.30620872063931726    1.3054601259520184    ...\n",
        "-0.11843159596524443    -1.089132812800847    ...\n",
        "0.3188684435405437      0.24903963293534098   ...\n",
        "1.4841502268555482      0.3684120374058125    ...\n",
        "1.4856716924592943      0.09241468861407406   ...\n",
        "-0.6172242265525925     0.7575017202922836    ...\n",
        "0.41828254485238586     0.7508097791040212    ...\n",
        "0.9576351492028541      0.9101389751482469    ...\n",
        "0.5948739239047812      0.16436138048480967   ...\n",
        "1.5031739931029642      -0.3897191804579473   ...\n",
        "-0.1918283858144054     -0.23802957490657287  ...\n",
        "-0.19388947002145732    -0.8211423388921977   ...\n",
        "-0.01710489040826511    0.3545994330095971    ...\n",
        "1.2667987444590816      -2.286940228465786    ...\n",
        "-0.6852645305678426     -0.32321703342700797  ...\n",
        "-0.4480653576872004     -0.9431094956494894   ...\n",
        "-2.194496770229587      -2.18984716331881     ...\n",
        "-0.14168708154045498    1.2578697040814004    ...\n",
        "-0.7338391678940352     0.7836347571777058    ...\n",
        "0.619550785342217       0.29004536962020866   ...\n",
        "-1.1211150960834915     -0.6328972818961096   ...\n",
        "... (100 total)"
       ]
      }
     ],
     "prompt_number": 18
    },
    {
     "cell_type": "code",
     "collapsed": false,
     "input": [
      "import breeze.plot._"
     ],
     "language": "python",
     "metadata": {},
     "outputs": [
      {
       "output_type": "stream",
       "stream": "stdout",
       "text": []
      },
      {
       "output_type": "stream",
       "stream": "stderr",
       "text": []
      }
     ],
     "prompt_number": 19
    },
    {
     "cell_type": "code",
     "collapsed": false,
     "input": [
      "plot(DenseVector.fill(100)(Gaussian(0,1).draw()),DenseVector.fill(100)(Gaussian(0,1).draw())).saveas(\"testplot.png\")"
     ],
     "language": "python",
     "metadata": {},
     "outputs": [
      {
       "ename": "",
       "evalue": "",
       "output_type": "pyerr",
       "traceback": [
        "<console>:26: error: value saveas is not a member of breeze.plot.Series",
        "              plot(DenseVector.fill(100)(Gaussian(0,1).draw()),DenseVector.fill(100)(Gaussian(0,1).draw())).saveas(\"testplot.png\")",
        "                                                                                                            ^"
       ]
      },
      {
       "output_type": "stream",
       "stream": "stderr",
       "text": []
      },
      {
       "output_type": "stream",
       "stream": "stdout",
       "text": []
      }
     ],
     "prompt_number": 28
    },
    {
     "cell_type": "code",
     "collapsed": false,
     "input": [
      "DenseVector.fill(100)(Gaussian(0,1).draw())"
     ],
     "language": "python",
     "metadata": {},
     "outputs": [
      {
       "output_type": "stream",
       "stream": "stderr",
       "text": []
      },
      {
       "output_type": "stream",
       "stream": "stdout",
       "text": []
      },
      {
       "metadata": {},
       "output_type": "pyout",
       "prompt_number": 25,
       "text": [
        "DenseVector(0.5079793959568852, 0.808486539926288, -0.4695277373284889, -0.9006563661970716, -0.03605497268936857, 0.920511078820948, -0.17035670933504513, -0.7496962498047409, 0.31353590133307424, 0.19818287536938448, 0.5338261820423217, 1.0509243630228877, 0.8164953551913531, 0.7992924953666355, -0.6904701251884742, 0.17770095457621443, 0.29174812371562153, -0.5496961217573629, -1.3216160415639695, -0.06956816673148837, -1.4399894313305313, -0.37687684522803183, 0.8131463970099689, -0.8374649994220753, 0.9331997641272137, 0.5104433853690076, -1.9980239947782836, 0.7487293740201599, -0.7130141584835139, 1.2823407316421587, -0.7387276909861746, -0.9412767348862385, 1.0264117584225505, -0.737435849611296, -0.4788446284922448, -1.3429584106659198, 1.0004577208863608, -0.8976010072587258, 1.2048041117727186, 0.22923165624571482, -0.4917573663103402, -0.6992310316109215, -0.09490328049252203, -0.5541168940654507, 0.12112547054753985, -0.8166115870223697, -1.7009238935958768, -0.9542156727157999, -1.3541399129332772, -0.0024906299058625814, 0.4643715930575011, 0.6896139830956823, -0.44809963935176367, 1.3832715746803503, -0.009272781647460614, 2.377627974630504, 1.9213807421885682, 0.6736960196239417, 0.7620608198252637, 0.8651499491267788, 0.4142039773090506, -0.47084096758781324, 1.0189632976294365, 1.232008174109359, -0.22727599550241578, 1.8825141735417574, 1.18320560384244, 3.077800069721537, 1.9545949459855585, 0.45208423230347083, -1.889935324496777, -0.3326754681240962, -1.308526440016714, 0.301165808211245, -0.638822416121701, 0.6533231295322548, 0.10642236338586411, 0.3604446815680234, -1.5669863123721883, -0.2973549047508346, 0.1904239705027722, -0.638159767833036, -0.07655706207460096, -0.708123091314662, -1.2629715515196076, 0.02087311344309828, -0.26036340870612484, 0.0068962797960161575, 0.2044738515751017, 0.14813296538335302, -0.5950386790852881, -1.1250573689857655, -0.7208460942819042, -0.31439605870911075, 1.0526463974354279, 0.6492230321108383, 0.6772592728267267, -0.44932784588570024, 0.5821767247666189, 1.2899273570572984)"
       ]
      }
     ],
     "prompt_number": 25
    },
    {
     "cell_type": "code",
     "collapsed": false,
     "input": [
      "val f = Figure()\n",
      "f.subplot(0) += image(DenseMatrix.fill(200,200)(Gaussian(0,1).draw()))"
     ],
     "language": "python",
     "metadata": {},
     "outputs": [],
     "prompt_number": "*"
    },
    {
     "cell_type": "code",
     "collapsed": false,
     "input": [
      "%timeit DenseVector.fill(100)(Gaussian(0,1).draw())\n"
     ],
     "language": "python",
     "metadata": {},
     "outputs": [],
     "prompt_number": "*"
    },
    {
     "cell_type": "code",
     "collapsed": false,
     "input": [],
     "language": "python",
     "metadata": {},
     "outputs": []
    }
   ],
   "metadata": {}
  }
 ]
}