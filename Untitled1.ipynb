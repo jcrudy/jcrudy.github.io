{
 "metadata": {
  "name": ""
 },
 "nbformat": 3,
 "nbformat_minor": 0,
 "worksheets": [
  {
   "cells": [
    {
     "cell_type": "code",
     "collapsed": false,
     "input": [
      "import math._\n"
     ],
     "language": "python",
     "metadata": {},
     "outputs": [
      {
       "output_type": "stream",
       "stream": "stderr",
       "text": []
      },
      {
       "output_type": "stream",
       "stream": "stdout",
       "text": []
      }
     ],
     "prompt_number": 2
    },
    {
     "cell_type": "code",
     "collapsed": false,
     "input": [
      "import breeze.linalg._"
     ],
     "language": "python",
     "metadata": {},
     "outputs": [
      {
       "ename": "",
       "evalue": "",
       "output_type": "pyerr",
       "traceback": [
        "<console>:10: error: not found: value breeze",
        "       import breeze.linalg._",
        "              ^"
       ]
      },
      {
       "output_type": "stream",
       "stream": "stderr",
       "text": []
      },
      {
       "output_type": "stream",
       "stream": "stdout",
       "text": []
      }
     ],
     "prompt_number": 3
    },
    {
     "cell_type": "code",
     "collapsed": false,
     "input": [
      "%libraryDependencies += \"org.scalanlp\" %% \"breeze\" % \"0.6-SNAPSHOT\"\n"
     ],
     "language": "python",
     "metadata": {},
     "outputs": [
      {
       "output_type": "stream",
       "stream": "stdout",
       "text": []
      },
      {
       "output_type": "stream",
       "stream": "stderr",
       "text": []
      }
     ],
     "prompt_number": 4
    },
    {
     "cell_type": "code",
     "collapsed": false,
     "input": [
      "%resolvers += \"ScalaNLP Maven2\" at \"http://repo.scalanlp.org/repo\""
     ],
     "language": "python",
     "metadata": {},
     "outputs": [
      {
       "output_type": "stream",
       "stream": "stderr",
       "text": []
      },
      {
       "output_type": "stream",
       "stream": "stdout",
       "text": []
      }
     ],
     "prompt_number": 5
    },
    {
     "cell_type": "code",
     "collapsed": false,
     "input": [
      "import breeze.linalg._"
     ],
     "language": "python",
     "metadata": {},
     "outputs": [
      {
       "ename": "",
       "evalue": "",
       "output_type": "pyerr",
       "traceback": [
        "<console>:10: error: not found: value breeze",
        "       import breeze.linalg._",
        "              ^"
       ]
      },
      {
       "output_type": "stream",
       "stream": "stderr",
       "text": []
      },
      {
       "output_type": "stream",
       "stream": "stdout",
       "text": []
      }
     ],
     "prompt_number": 6
    },
    {
     "cell_type": "code",
     "collapsed": false,
     "input": [
      "%resolvers ++= Seq(\n",
      "  \"ScalaNLP Maven2\" at \"http://repo.scalanlp.org/repo\",\n",
      "  \"Scala Tools Snapshots\" at \"http://scala-tools.org/repo-snapshots/\",\n",
      "  \"Typesafe Repository\" at \"http://repo.typesafe.com/typesafe/releases/\",\n",
      "   \"Sonatype Snapshots\" at \"https://oss.sonatype.org/content/repositories/snapshots/\"\n",
      ")"
     ],
     "language": "python",
     "metadata": {},
     "outputs": [
      {
       "output_type": "stream",
       "stream": "stderr",
       "text": []
      },
      {
       "ename": "",
       "evalue": "",
       "output_type": "pyerr",
       "traceback": [
        "<console>:11: error: not found: value %",
        "              %resolvers ++= Seq(",
        "              ^"
       ]
      },
      {
       "output_type": "stream",
       "stream": "stdout",
       "text": []
      }
     ],
     "prompt_number": 7
    },
    {
     "cell_type": "code",
     "collapsed": false,
     "input": [
      "%resolvers += \"Scala Tools Snapshots\" at \"http://scala-tools.org/repo-snapshots/\"\n",
      "%resolvers += \"Typesafe Repository\" at \"http://repo.typesafe.com/typesafe/releases/\"\n",
      "%resolvers += \"Sonatype Snapshots\" at \"https://oss.sonatype.org/content/repositories/snapshots/\""
     ],
     "language": "python",
     "metadata": {},
     "outputs": [
      {
       "ename": "",
       "evalue": "",
       "output_type": "pyerr",
       "traceback": [
        "<console>:1: error: ';' expected but string literal found.",
        "       %resolvers += \"Scala Tools Snapshots\" at \"http://scala-tools.org/repo-snapshots/\"",
        "                     ^",
        "<console>:2: error: ';' expected but string literal found.",
        "       %resolvers += \"Typesafe Repository\" at \"http://repo.typesafe.com/typesafe/releases/\"",
        "                     ^",
        "<console>:3: error: ';' expected but string literal found.",
        "       %resolvers += \"Sonatype Snapshots\" at \"https://oss.sonatype.org/content/repositories/snapshots/\"",
        "                     ^"
       ]
      },
      {
       "output_type": "stream",
       "stream": "stderr",
       "text": []
      },
      {
       "output_type": "stream",
       "stream": "stdout",
       "text": []
      }
     ],
     "prompt_number": 8
    },
    {
     "cell_type": "code",
     "collapsed": false,
     "input": [
      "%update\n"
     ],
     "language": "python",
     "metadata": {},
     "outputs": [
      {
       "output_type": "stream",
       "stream": "stdout",
       "text": [
        "[info] Resolving org.scalanlp#breeze_2.10;0.6-SNAPSHOT ...\n"
       ]
      },
      {
       "output_type": "stream",
       "stream": "stdout",
       "text": [
        "[warn] \tmodule not found: org.scalanlp#breeze_2.10;0.6-SNAPSHOT\n",
        "[warn] ==== sonatype-releases: tried\n",
        "[warn]   https://oss.sonatype.org/content/repositories/releases/org/scalanlp/breeze_2.10/0.6-SNAPSHOT/breeze_2.10-0.6-SNAPSHOT.pom\n",
        "[warn] ==== ScalaNLP Maven2: tried\n",
        "[warn]   http://repo.scalanlp.org/repo/org/scalanlp/breeze_2.10/0.6-SNAPSHOT/breeze_2.10-0.6-SNAPSHOT.pom\n",
        "[warn] \t::::::::::::::::::::::::::::::::::::::::::::::\n",
        "[warn] \t::          UNRESOLVED DEPENDENCIES         ::\n",
        "[warn] \t::::::::::::::::::::::::::::::::::::::::::::::\n",
        "[warn] \t:: org.scalanlp#breeze_2.10;0.6-SNAPSHOT: not found\n",
        "[warn] \t::::::::::::::::::::::::::::::::::::::::::::::\n",
        "[error] unresolved dependency: org.scalanlp#breeze_2.10;0.6-SNAPSHOT: not found\n"
       ]
      },
      {
       "output_type": "stream",
       "stream": "stderr",
       "text": []
      }
     ],
     "prompt_number": 9
    },
    {
     "cell_type": "code",
     "collapsed": false,
     "input": [
      "%resolvers += \"ScalaNLP Maven2\" at \"http://repo.scalanlp.org/repo\""
     ],
     "language": "python",
     "metadata": {},
     "outputs": [
      {
       "output_type": "stream",
       "stream": "stdout",
       "text": []
      },
      {
       "output_type": "stream",
       "stream": "stderr",
       "text": []
      }
     ],
     "prompt_number": 10
    },
    {
     "cell_type": "code",
     "collapsed": false,
     "input": [
      "%resolvers += \"Scala Tools Snapshots\" at \"http://scala-tools.org/repo-snapshots/\""
     ],
     "language": "python",
     "metadata": {},
     "outputs": [
      {
       "output_type": "stream",
       "stream": "stdout",
       "text": []
      },
      {
       "output_type": "stream",
       "stream": "stderr",
       "text": []
      }
     ],
     "prompt_number": 11
    },
    {
     "cell_type": "code",
     "collapsed": false,
     "input": [
      "%resolvers += \"Typesafe Repository\" at \"http://repo.typesafe.com/typesafe/releases/\""
     ],
     "language": "python",
     "metadata": {},
     "outputs": [
      {
       "output_type": "stream",
       "stream": "stderr",
       "text": []
      },
      {
       "output_type": "stream",
       "stream": "stdout",
       "text": []
      }
     ],
     "prompt_number": 12
    },
    {
     "cell_type": "code",
     "collapsed": false,
     "input": [
      "%resolvers += \"Sonatype Snapshots\" at \"https://oss.sonatype.org/content/repositories/snapshots/\""
     ],
     "language": "python",
     "metadata": {},
     "outputs": [
      {
       "output_type": "stream",
       "stream": "stdout",
       "text": []
      },
      {
       "output_type": "stream",
       "stream": "stderr",
       "text": []
      }
     ],
     "prompt_number": 13
    },
    {
     "cell_type": "code",
     "collapsed": false,
     "input": [
      "%update\n"
     ],
     "language": "python",
     "metadata": {},
     "outputs": [
      {
       "output_type": "stream",
       "stream": "stdout",
       "text": [
        "[info] Resolving org.scalanlp#breeze_2.10;0.6-SNAPSHOT ...\n"
       ]
      },
      {
       "output_type": "stream",
       "stream": "stdout",
       "text": [
        "[info] Resolving org.scala-lang#scala-library;2.10.3 ...\n",
        "[info] Resolving org.scalanlp#breeze-macros_2.10;0.1 ...\n",
        "[info] Resolving org.scala-lang#scala-reflect;2.10.3 ...\n",
        "[info] Resolving com.thoughtworks.paranamer#paranamer;2.2 ...\n",
        "[info] Resolving com.github.fommil.netlib#all;1.1.2 ...\n",
        "[info] Resolving net.sourceforge.f2j#arpack_combined_all;0.1 ...\n",
        "[info] Resolving com.github.fommil.netlib#core;1.1.2 ...\n",
        "[info] Resolving com.github.fommil.netlib#netlib-native_ref-osx-x86_64;1.1 ...\n"
       ]
      },
      {
       "output_type": "stream",
       "stream": "stdout",
       "text": [
        "[info] Resolving com.github.fommil.netlib#native_ref-java;1.1 ...\n"
       ]
      },
      {
       "output_type": "stream",
       "stream": "stdout",
       "text": [
        "[info] Resolving com.github.fommil#jniloader;1.1 ...\n",
        "[info] Resolving com.github.fommil.netlib#netlib-native_ref-linux-x86_64;1.1 ...\n"
       ]
      },
      {
       "output_type": "stream",
       "stream": "stdout",
       "text": [
        "[info] Resolving com.github.fommil.netlib#netlib-native_ref-linux-i686;1.1 ...\n"
       ]
      },
      {
       "output_type": "stream",
       "stream": "stdout",
       "text": [
        "[info] Resolving com.github.fommil.netlib#netlib-native_ref-win-x86_64;1.1 ...\n",
        "[info] Resolving com.github.fommil.netlib#netlib-native_ref-win-i686;1.1 ...\n"
       ]
      },
      {
       "output_type": "stream",
       "stream": "stdout",
       "text": [
        "[info] Resolving com.github.fommil.netlib#netlib-native_ref-linux-armhf;1.1 ...\n"
       ]
      },
      {
       "output_type": "stream",
       "stream": "stdout",
       "text": [
        "[info] Resolving com.github.fommil.netlib#netlib-native_system-osx-x86_64;1.1 ...\n"
       ]
      },
      {
       "output_type": "stream",
       "stream": "stdout",
       "text": [
        "[info] Resolving com.github.fommil.netlib#native_system-java;1.1 ...\n"
       ]
      },
      {
       "output_type": "stream",
       "stream": "stdout",
       "text": [
        "[info] Resolving com.github.fommil.netlib#netlib-native_system-linux-x86_64;1.1 ...\n",
        "[info] Resolving com.github.fommil.netlib#netlib-native_system-linux-i686;1.1 ...\n"
       ]
      },
      {
       "output_type": "stream",
       "stream": "stdout",
       "text": [
        "[info] Resolving com.github.fommil.netlib#netlib-native_system-linux-armhf;1.1 ...\n"
       ]
      },
      {
       "output_type": "stream",
       "stream": "stdout",
       "text": [
        "[info] Resolving com.github.fommil.netlib#netlib-native_system-win-x86_64;1.1 ...\n",
        "[info] Resolving com.github.fommil.netlib#netlib-native_system-win-i686;1.1 ...\n"
       ]
      },
      {
       "output_type": "stream",
       "stream": "stdout",
       "text": [
        "[info] Resolving org.scalanlp#lpsolve;5.5.2-SNAPSHOT ...\n"
       ]
      },
      {
       "output_type": "stream",
       "stream": "stdout",
       "text": [
        "[info] Resolving net.sf.opencsv#opencsv;2.3 ...\n",
        "[info] Resolving com.github.rwl#jtransforms;2.4.0 ...\n",
        "[info] Resolving junit#junit;4.8.2 ...\n",
        "[info] Resolving org.apache.commons#commons-math3;3.2 ...\n",
        "[info] Resolving com.typesafe#scalalogging-slf4j_2.10;1.0.1 ...\n",
        "[info] Resolving org.slf4j#slf4j-api;1.7.2 ...\n"
       ]
      },
      {
       "output_type": "stream",
       "stream": "stderr",
       "text": []
      }
     ]
    },
    {
     "cell_type": "code",
     "collapsed": false,
     "input": [
      "import breeze.linalg._"
     ],
     "language": "python",
     "metadata": {},
     "outputs": [
      {
       "output_type": "stream",
       "stream": "stdout",
       "text": []
      },
      {
       "output_type": "stream",
       "stream": "stderr",
       "text": []
      }
     ],
     "prompt_number": 1
    },
    {
     "cell_type": "code",
     "collapsed": false,
     "input": [
      "DenseMatrix.rand(10,10)"
     ],
     "language": "python",
     "metadata": {},
     "outputs": [
      {
       "output_type": "stream",
       "stream": "stderr",
       "text": []
      },
      {
       "output_type": "stream",
       "stream": "stdout",
       "text": []
      },
      {
       "metadata": {},
       "output_type": "pyout",
       "prompt_number": 2,
       "text": [
        "0.6797569416525163   0.036055404986124806  0.4636554548371974    ... (10 total)\n",
        "0.26819258191507767  0.7709143905697897    0.8597747880565846    ...\n",
        "0.17717156132199618  0.06893595409708775   0.36339553360085286   ...\n",
        "0.08513848363656928  0.6555769932486263    0.3777905979846584    ...\n",
        "0.9909521686346083   0.3596422220883432    0.9074545714814916    ...\n",
        "0.5505000581991623   0.8246397465702223    8.088157877136348E-4  ...\n",
        "0.5075059916574185   0.3230320519938481    0.9182545215388987    ...\n",
        "0.7527841046655017   0.5067881861616826    0.5657823737378083    ...\n",
        "0.2602217236659988   0.7737187280681448    0.6882392502447513    ...\n",
        "0.38190433872239427  0.5632115836768145    0.7851626061879398    ..."
       ]
      }
     ],
     "prompt_number": 2
    },
    {
     "cell_type": "code",
     "collapsed": false,
     "input": [
      "import breeze.stats.distributions._"
     ],
     "language": "python",
     "metadata": {},
     "outputs": [
      {
       "output_type": "stream",
       "stream": "stderr",
       "text": []
      },
      {
       "output_type": "stream",
       "stream": "stdout",
       "text": []
      }
     ],
     "prompt_number": 4
    },
    {
     "cell_type": "code",
     "collapsed": false,
     "input": [
      "DenseMatrix.fill(10,10)(Gaussian(0,1).draw())"
     ],
     "language": "python",
     "metadata": {},
     "outputs": [
      {
       "output_type": "stream",
       "stream": "stdout",
       "text": []
      },
      {
       "output_type": "stream",
       "stream": "stderr",
       "text": []
      },
      {
       "metadata": {},
       "output_type": "pyout",
       "prompt_number": 9,
       "text": [
        "1.371407568627441     0.9063083227916557   0.34873368172302865   ... (10 total)\n",
        "0.17336924211593224   0.2989089234590532   1.3282470762108842    ...\n",
        "1.5234519269500941    0.08150339653510216  1.0530047485253446    ...\n",
        "0.5147435525079197    0.12638604642017237  -0.35482133146843914  ...\n",
        "0.09297260881614387   0.3356858216098406   0.7304381818292114    ...\n",
        "1.3448645947998195    0.3493606923321287   -0.3122659761722073   ...\n",
        "0.33872051305524725   -0.2906478504182336  1.1545225176472278    ...\n",
        "-0.5345058896116023   -1.1185966518950232  1.3058884488361548    ...\n",
        "0.7986173255968013    -0.3308052658292732  -1.5752842622985452   ...\n",
        "-0.42453035994032023  -0.8666253949907802  1.6162457586057977    ..."
       ]
      }
     ],
     "prompt_number": 9
    },
    {
     "cell_type": "code",
     "collapsed": false,
     "input": [],
     "language": "python",
     "metadata": {},
     "outputs": []
    }
   ],
   "metadata": {}
  }
 ]
}